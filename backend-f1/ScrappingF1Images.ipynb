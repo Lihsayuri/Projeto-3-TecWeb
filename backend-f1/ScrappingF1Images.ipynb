{
 "cells": [
  {
   "cell_type": "code",
   "execution_count": 28,
   "metadata": {},
   "outputs": [
    {
     "name": "stdout",
     "output_type": "stream",
     "text": [
      "https://www.formula1.com/content/dam/fom-website/2018-redesign-assets/homepage/driver-standings-component/VALBOT01.png.transform/4col/image.png\n"
     ]
    }
   ],
   "source": [
    "import requests\n",
    "from bs4 import BeautifulSoup\n",
    "\n",
    "\n",
    "f1Page = 'https://www.formula1.com/en.html'\n",
    "result = requests.get(f1Page)\n",
    "result.content\n",
    "\n",
    "# if successful parse the download into a BeautifulSoup object, which allows easy manipulation \n",
    "if result.status_code == 200:\n",
    "    soup = BeautifulSoup(result.content, \"html.parser\")\n",
    "\n",
    "# find the object with HTML class wikitable sortable\n",
    "#print(soup)\n",
    "#const firstPlace = document.querySelector('.f1-podium--position.pos--1.d-none.d-md-inline-block')\n",
    "#const driverClass = firstPlace.querySelector('.driver-image')\n",
    "#const pictureFirstPlace = driverClass.querySelector('.lazy').getAttribute('data-src')\n",
    "classDriver1 = soup.find('a',{'class':'f1-podium--position pos--1 d-none d-md-inline-block'})\n",
    "classDriver1Img = classDriver1.find('picture',{'class':'driver-image'})\n",
    "pictureFirstPlace = classDriver1Img.find('img', {'class':'lazy'})['data-src']\n",
    "linkFirstPlaceImg = \"https://www.formula1.com\" + pictureFirstPlace \n",
    "\n",
    "#---------------------------------------------------------------------------------------------\n",
    "\n",
    "classDriver2 = soup.find('a',{'class':'f1-podium--position pos--2 d-none d-md-inline-block'})\n",
    "classDriver2Img = classDriver2.find('picture',{'class':'driver-image'})\n",
    "pictureSecondPlace = classDriver2Img.find('img', {'class':'lazy'})['data-src']\n",
    "linkSecondPlaceImg = \"https://www.formula1.com\" + pictureSecondPlace\n",
    "\n",
    "#----------------------------------------------------------------------------------------------\n",
    "\n",
    "classDriver3 = soup.find('a',{'class':'f1-podium--position pos--3 d-none d-md-inline-block'})\n",
    "classDriver3Img = classDriver3.find('picture',{'class':'driver-image'})\n",
    "pictureThirdPlace = classDriver3Img.find('img', {'class':'lazy'})['data-src']\n",
    "linkThirdPlaceImg = \"https://www.formula1.com\" + pictureThirdPlace\n",
    "\n",
    "\n",
    "img2 = soup.find('a',{'class':'f1-podium--position pos--2 d-none d-md-inline-block'})\n",
    "img3 = soup.find('a',{'class':'f1-podium--position pos--3 d-none d-md-inline-block'})\n",
    "print(linkThirdPlaceImg)\n",
    "#print(img2)"
   ]
  },
  {
   "cell_type": "code",
   "execution_count": 52,
   "metadata": {},
   "outputs": [
    {
     "name": "stdout",
     "output_type": "stream",
     "text": [
      "https://www.formula1.com/content/fom-website/en/teams/Ferrari/_jcr_content/teamCar.transform/4col/image.png\n"
     ]
    }
   ],
   "source": [
    "f1PageConstruc = 'https://www.formula1.com/en.html#constructors'\n",
    "result2 = requests.get(f1PageConstruc)\n",
    "result2.content\n",
    "\n",
    "# if successful parse the download into a BeautifulSoup object, which allows easy manipulation \n",
    "if result2.status_code == 200:\n",
    "    soup2 = BeautifulSoup(result2.content, \"html.parser\")\n",
    "\n",
    "classConstruc1 = soup2.find('div',{'class':'f1-podium--top-positions constructors'})\n",
    "classPos1 = classConstruc1.find('a', {'class':'f1-podium--position pos--1 d-none d-md-inline-block'})\n",
    "classLogo1 = classPos1.find('img', {'class': 'lazy'})['data-src']\n",
    "LogoImg1 = \"https://www.formula1.com\" + classLogo1\n",
    "\n",
    "classCar = classPos1.find('picture', {'class': 'car-image'})\n",
    "classCarImg = classCar.find('img', {'class': 'lazy'})['data-src']\n",
    "linkCarImg = \"https://www.formula1.com\" + classCarImg\n",
    "\n",
    "#-------------------------------------------------------------------------------------\n",
    "\n",
    "classConstruc2 = soup2.find('div',{'class':'f1-podium--top-positions constructors'})\n",
    "classPos2 = classConstruc2.find('a', {'class':'f1-podium--position pos--2 d-none d-md-inline-block'})\n",
    "classLogo2 = classPos2.find('img', {'class': 'lazy'})['data-src']\n",
    "LogoImg2 = \"https://www.formula1.com\" + classLogo2\n",
    "\n",
    "classCar2 = classPos2.find('picture', {'class': 'car-image'})\n",
    "classCarImg2 = classCar2.find('img', {'class': 'lazy'})['data-src']\n",
    "linkCarImg2 = \"https://www.formula1.com\" + classCarImg2\n",
    "\n",
    "#---------------------------------------------------------------------------------------\n",
    "\n",
    "classConstruc3 = soup2.find('div',{'class':'f1-podium--top-positions constructors'})\n",
    "classPos3 = classConstruc3.find('a', {'class':'f1-podium--position pos--3 d-none d-md-inline-block'})\n",
    "classLogo3 = classPos3.find('img', {'class': 'lazy'})['data-src']\n",
    "LogoImg3 = \"https://www.formula1.com\" + classLogo3\n",
    "\n",
    "classCar3 = classPos3.find('picture', {'class': 'car-image'})\n",
    "classCarImg3 = classCar3.find('img', {'class': 'lazy'})['data-src']\n",
    "linkCarImg3 = \"https://www.formula1.com\" + classCarImg3\n",
    "\n",
    "print(linkCarImg3)\n"
   ]
  },
  {
   "cell_type": "code",
   "execution_count": null,
   "metadata": {},
   "outputs": [],
   "source": []
  }
 ],
 "metadata": {
  "kernelspec": {
   "display_name": "Python 3",
   "language": "python",
   "name": "python3"
  },
  "language_info": {
   "codemirror_mode": {
    "name": "ipython",
    "version": 3
   },
   "file_extension": ".py",
   "mimetype": "text/x-python",
   "name": "python",
   "nbconvert_exporter": "python",
   "pygments_lexer": "ipython3",
   "version": "3.7.6"
  }
 },
 "nbformat": 4,
 "nbformat_minor": 4
}
